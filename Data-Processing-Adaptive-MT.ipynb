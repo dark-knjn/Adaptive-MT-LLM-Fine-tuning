{
  "nbformat": 4,
  "nbformat_minor": 0,
  "metadata": {
    "colab": {
      "provenance": [],
      "machine_shape": "hm",
      "mount_file_id": "1U39U2mEse08IUJEIAuiKBuRfWOJLIGhQ",
      "authorship_tag": "ABX9TyPpbHJKiTQMM1evMz4z1AnX",
      "include_colab_link": true
    },
    "kernelspec": {
      "name": "python3",
      "display_name": "Python 3"
    },
    "language_info": {
      "name": "python"
    }
  },
  "cells": [
    {
      "cell_type": "markdown",
      "metadata": {
        "id": "view-in-github",
        "colab_type": "text"
      },
      "source": [
        "<a href=\"https://colab.research.google.com/github/ymoslem/Adaptive-MT-LLM-Fine-tuning/blob/main/Data-Processing-Adaptive-MT.ipynb\" target=\"_parent\"><img src=\"https://colab.research.google.com/assets/colab-badge.svg\" alt=\"Open In Colab\"/></a>"
      ]
    },
    {
      "cell_type": "markdown",
      "source": [
        "# Data Processing of Medical Spanish-to-English datasets\n",
        "\n",
        "This notebook is part of the repository [Adaptive-MT-LLM-Fine-tuning](https://github.com/ymoslem/Adaptive-MT-LLM-Fine-tuning)."
      ],
      "metadata": {
        "id": "UXKuyySRtJBf"
      }
    },
    {
      "cell_type": "markdown",
      "metadata": {
        "id": "XcwitcUGUO49"
      },
      "source": [
        "# Downloading Datasets"
      ]
    },
    {
      "cell_type": "code",
      "execution_count": null,
      "metadata": {
        "ExecuteTime": {
          "end_time": "2022-08-21T16:45:06.183962Z",
          "start_time": "2022-08-21T16:45:06.159098Z"
        },
        "colab": {
          "base_uri": "https://localhost:8080/",
          "height": 35
        },
        "id": "jUVs33pZcx17",
        "outputId": "065e00e5-bb4d-4a24-b836-94a98af65297"
      },
      "outputs": [
        {
          "output_type": "execute_result",
          "data": {
            "text/plain": [
              "'/content/drive/MyDrive/data/spanish'"
            ],
            "application/vnd.google.colaboratory.intrinsic+json": {
              "type": "string"
            }
          },
          "metadata": {},
          "execution_count": 1
        }
      ],
      "source": [
        "import os\n",
        "\n",
        "data_path = \"/content/drive/MyDrive/data/\"\n",
        "directory = os.path.join(data_path, \"spanish\")\n",
        "\n",
        "if not os.path.exists(directory):\n",
        "  os.mkdir(directory)\n",
        "  os.chdir(directory)\n",
        "else:\n",
        "  os.chdir(directory)\n",
        "\n",
        "os.getcwd()"
      ]
    },
    {
      "cell_type": "code",
      "execution_count": null,
      "metadata": {
        "ExecuteTime": {
          "end_time": "2022-08-21T16:45:05.339122Z",
          "start_time": "2022-08-21T16:45:05.333140Z"
        },
        "id": "HpOhG1wlhU_-"
      },
      "outputs": [],
      "source": [
        "srclang = \"es\"\n",
        "tgtlang = \"en\"\n",
        "\n",
        "\n",
        "all_corpora = False\n",
        "ccaligned = False\n",
        "paracrawl = False"
      ]
    },
    {
      "cell_type": "code",
      "execution_count": null,
      "metadata": {
        "ExecuteTime": {
          "end_time": "2022-08-21T16:45:46.833419Z",
          "start_time": "2022-08-21T16:45:45.644614Z"
        },
        "id": "aU3RrXBgcx1-",
        "outputId": "2974d8da-aaf0-4b13-e885-8459bdaaad5f",
        "colab": {
          "base_uri": "https://localhost:8080/"
        }
      },
      "outputs": [
        {
          "output_type": "execute_result",
          "data": {
            "text/plain": [
              "{'alignment_pairs': 62191,\n",
              " 'corpus': 'bible-uedin',\n",
              " 'documents': '',\n",
              " 'id': 23469,\n",
              " 'latest': 'True',\n",
              " 'preprocessing': 'moses',\n",
              " 'size': 5291,\n",
              " 'source': 'en',\n",
              " 'source_tokens': 1550348,\n",
              " 'target': 'es',\n",
              " 'target_tokens': 1434719,\n",
              " 'url': 'https://object.pouta.csc.fi/OPUS-bible-uedin/v1/moses/en-es.txt.zip',\n",
              " 'version': 'v1'}"
            ]
          },
          "metadata": {},
          "execution_count": 3
        }
      ],
      "source": [
        "import requests\n",
        "\n",
        "opus_url = \"https://opus.nlpl.eu/opusapi/?source=\"+srclang+\"&target=\"+tgtlang+\"&preprocessing=moses&version=latest\"\n",
        "response = requests.get(opus_url)\n",
        "response_json = response.json()\n",
        "corpora = response_json[\"corpora\"]\n",
        "corpora[0]"
      ]
    },
    {
      "cell_type": "code",
      "execution_count": null,
      "metadata": {
        "ExecuteTime": {
          "end_time": "2022-08-21T16:52:53.195789Z",
          "start_time": "2022-08-21T16:52:53.188024Z"
        },
        "id": "hbbCtRYpcx1_"
      },
      "outputs": [],
      "source": [
        "# Medical corpora\n",
        "corpora_names = [\"EMEA\", \"ELRC_2682\", \"ELRC_2922\", \"ELRC_2923\", \"ELRC_3382\", \"tico-19\", \"SciELO\",\n",
        "                \"ELRC-3210-antibiotic\", \"ELRC-antibiotic\",\n",
        "                \"ELRC-3077-wikipedia_health\", \"ELRC-wikipedia_health\",\n",
        "                \"ELRC-3299-EUROPARL_covid\", \"ELRC-3470-EC_EUROPA_covid\", \"ELRC-3571-EUR_LEX_covid\",\n",
        "                \"ELRC-3612-presscorner_covid\", \"ELRC-EUROPARL_covid\", \"ELRC-presscorner_covid\",\n",
        "                \"ELRC-EUIPO_list\"\n",
        "                ]\n",
        "\n",
        "urls = [corpus[\"url\"] for corpus in corpora]"
      ]
    },
    {
      "cell_type": "code",
      "execution_count": null,
      "metadata": {
        "ExecuteTime": {
          "end_time": "2022-08-21T16:54:39.839264Z",
          "start_time": "2022-08-21T16:54:39.829122Z"
        },
        "colab": {
          "base_uri": "https://localhost:8080/"
        },
        "id": "f4dkQ1ctlxzm",
        "outputId": "fb38cdfa-5316-404f-be87-8c31836e6e1e"
      },
      "outputs": [
        {
          "output_type": "stream",
          "name": "stdout",
          "text": [
            "Line count: 2,303,897\n"
          ]
        }
      ],
      "source": [
        "# Get data size\n",
        "\n",
        "data_size = 0\n",
        "\n",
        "for corpus in corpora:\n",
        "    if corpus[\"corpus\"] in corpora_names and corpus[\"alignment_pairs\"]:\n",
        "        data_size += corpus[\"alignment_pairs\"]\n",
        "\n",
        "print(\"Line count:\", format(data_size, ','))"
      ]
    },
    {
      "cell_type": "code",
      "execution_count": null,
      "metadata": {
        "ExecuteTime": {
          "end_time": "2022-05-08T15:51:53.527547Z",
          "start_time": "2022-05-08T15:26:01.074506Z"
        },
        "colab": {
          "base_uri": "https://localhost:8080/"
        },
        "id": "U72Irn9cFYLD",
        "outputId": "101a540c-c6db-4be1-cd2e-5a4ce66a5044"
      },
      "outputs": [
        {
          "output_type": "stream",
          "name": "stdout",
          "text": [
            "Downloading to: /content/drive/MyDrive/data/spanish\n",
            "• ELRC_2682\n",
            "\n",
            "• ELRC_2922\n",
            "\n",
            "• ELRC_2923\n",
            "\n",
            "• ELRC-3077-wikipedia_health\n",
            "\n",
            "• ELRC-3210-antibiotic\n",
            "\n",
            "• ELRC-3299-EUROPARL_covid\n",
            "\n",
            "• ELRC_3382\n",
            "\n",
            "• ELRC-3470-EC_EUROPA_covid\n",
            "\n",
            "• ELRC-3571-EUR_LEX_covid\n",
            "\n",
            "• ELRC-3612-presscorner_covid\n",
            "\n",
            "• ELRC-antibiotic\n",
            "\n",
            "• ELRC-EUIPO_list\n",
            "\n",
            "• ELRC-EUROPARL_covid\n",
            "\n",
            "• ELRC-presscorner_covid\n",
            "\n",
            "• ELRC-wikipedia_health\n",
            "\n",
            "• EMEA\n",
            "\n",
            "• SciELO\n",
            "\n",
            "• tico-19\n"
          ]
        }
      ],
      "source": [
        "# Download the datasets\n",
        "\n",
        "!pip3 install wget -U -q\n",
        "\n",
        "from wget import download\n",
        "import shutil\n",
        "import os\n",
        "from tqdm.notebook import tqdm\n",
        "\n",
        "\n",
        "os.chdir(directory)\n",
        "print(\"Downloading to:\", os.getcwd(), end=\"\")\n",
        "\n",
        "\n",
        "for corpus in corpora:\n",
        "    if corpus[\"corpus\"] in corpora_names:\n",
        "        print(\"•\", corpus[\"corpus\"])\n",
        "        url = corpus[\"url\"]\n",
        "        filename = download(url)\n",
        "\n",
        "        shutil.unpack_archive(filename)\n",
        "        os.remove(filename)\n"
      ]
    },
    {
      "cell_type": "code",
      "execution_count": null,
      "metadata": {
        "ExecuteTime": {
          "end_time": "2022-05-09T16:09:33.080691Z",
          "start_time": "2022-05-09T16:09:33.073905Z"
        },
        "id": "Dfaqcq_Ncx2B",
        "outputId": "a62164f2-8d0c-4604-e336-2f29cec330c6",
        "colab": {
          "base_uri": "https://localhost:8080/"
        }
      },
      "outputs": [
        {
          "output_type": "stream",
          "name": "stdout",
          "text": [
            "ELRC-3077-wikipedia_health.en-es.es ELRC-3210-antibiotic.en-es.es ELRC-3299-EUROPARL_covid.en-es.es ELRC-3470-EC_EUROPA_covid.en-es.es ELRC-3571-EUR_LEX_covid.en-es.es ELRC-3612-presscorner_covid.en-es.es ELRC-EUIPO_list.en-es.es ELRC-EUROPARL_covid.en-es.es ELRC-antibiotic.en-es.es ELRC-presscorner_covid.en-es.es ELRC-wikipedia_health.en-es.es ELRC_2682.en-es.es ELRC_2922.en-es.es ELRC_2923.en-es.es ELRC_3382.en-es.es EMEA.en-es.es SciELO.en-es.es tico-19.en-es.es\n",
            "ELRC-3077-wikipedia_health.en-es.en ELRC-3210-antibiotic.en-es.en ELRC-3299-EUROPARL_covid.en-es.en ELRC-3470-EC_EUROPA_covid.en-es.en ELRC-3571-EUR_LEX_covid.en-es.en ELRC-3612-presscorner_covid.en-es.en ELRC-EUIPO_list.en-es.en ELRC-EUROPARL_covid.en-es.en ELRC-antibiotic.en-es.en ELRC-presscorner_covid.en-es.en ELRC-wikipedia_health.en-es.en ELRC_2682.en-es.en ELRC_2922.en-es.en ELRC_2923.en-es.en ELRC_3382.en-es.en EMEA.en-es.en SciELO.en-es.en tico-19.en-es.en\n"
          ]
        }
      ],
      "source": [
        "source_files = []\n",
        "target_files = []\n",
        "\n",
        "for filename in os.listdir(\".\"):\n",
        "    if filename.endswith((\".ids\", \".scores\", \".xml\", \"LICENSE\", \"README\")):\n",
        "        os.remove(filename)\n",
        "    elif filename.endswith(srclang) and \"filtered\" not in filename:\n",
        "        source_files.append(filename)\n",
        "    elif filename.endswith(tgtlang) and \"filtered\" not in filename:\n",
        "        target_files.append(filename)\n",
        "\n",
        "if len(source_files) == len(target_files):\n",
        "    source_files = sorted(source_files)\n",
        "    target_files = sorted(target_files)\n",
        "\n",
        "    print(*source_files)\n",
        "    print(*target_files)\n",
        "else:\n",
        "    print(\"Different length of source and target files\", len(source_files), len(target_files))"
      ]
    },
    {
      "cell_type": "markdown",
      "metadata": {
        "id": "_2zzkKfJcx2C"
      },
      "source": [
        "# Filtering Datasets"
      ]
    },
    {
      "cell_type": "code",
      "source": [
        "!wget -qq https://github.com/ymoslem/MT-Preparation/raw/main/filtering/filter.py -O filter.py"
      ],
      "metadata": {
        "id": "1qH9hEplwWSI"
      },
      "execution_count": null,
      "outputs": []
    },
    {
      "cell_type": "code",
      "execution_count": null,
      "metadata": {
        "ExecuteTime": {
          "end_time": "2022-05-09T16:28:34.235305Z",
          "start_time": "2022-05-09T16:10:01.932521Z"
        },
        "scrolled": true,
        "id": "bZb0Xm15cx2C",
        "outputId": "a7a677f2-ea25-4131-da22-2e5f804b2cc2",
        "colab": {
          "base_uri": "https://localhost:8080/"
        }
      },
      "outputs": [
        {
          "output_type": "stream",
          "name": "stdout",
          "text": [
            "Filtering files...\n",
            "\n",
            "••• ELRC-3077-wikipedia_health.en-es.es ELRC-3077-wikipedia_health.en-es.en\n",
            "Dataframe shape (rows, columns): (5115, 2)\n",
            "--- Rows with Empty Cells Deleted\t--> Rows: 5114\n",
            "--- Duplicates Deleted\t\t\t--> Rows: 5114\n",
            "--- Source-Copied Rows Deleted\t\t--> Rows: 5112\n",
            "--- Too Long Source/Target Deleted\t--> Rows: 5028\n",
            "--- HTML Removed\t\t\t--> Rows: 5028\n",
            "--- Rows will remain in true-cased\t--> Rows: 5028\n",
            "--- Rows with Empty Cells Deleted\t--> Rows: 5028\n",
            "--- Rows Shuffled\t\t\t--> Rows: 5028\n",
            "--- Source Saved: ELRC-3077-wikipedia_health.en-es.es-filtered.es\n",
            "--- Target Saved: ELRC-3077-wikipedia_health.en-es.en-filtered.en\n",
            "\n",
            "••• ELRC-3210-antibiotic.en-es.es ELRC-3210-antibiotic.en-es.en\n",
            "Dataframe shape (rows, columns): (937, 2)\n",
            "--- Rows with Empty Cells Deleted\t--> Rows: 936\n",
            "--- Duplicates Deleted\t\t\t--> Rows: 936\n",
            "--- Source-Copied Rows Deleted\t\t--> Rows: 936\n",
            "--- Too Long Source/Target Deleted\t--> Rows: 921\n",
            "--- HTML Removed\t\t\t--> Rows: 921\n",
            "--- Rows will remain in true-cased\t--> Rows: 921\n",
            "--- Rows with Empty Cells Deleted\t--> Rows: 921\n",
            "--- Rows Shuffled\t\t\t--> Rows: 921\n",
            "--- Source Saved: ELRC-3210-antibiotic.en-es.es-filtered.es\n",
            "--- Target Saved: ELRC-3210-antibiotic.en-es.en-filtered.en\n",
            "\n",
            "••• ELRC-3299-EUROPARL_covid.en-es.es ELRC-3299-EUROPARL_covid.en-es.en\n",
            "Dataframe shape (rows, columns): (661, 2)\n",
            "--- Rows with Empty Cells Deleted\t--> Rows: 660\n",
            "--- Duplicates Deleted\t\t\t--> Rows: 660\n",
            "--- Source-Copied Rows Deleted\t\t--> Rows: 660\n",
            "--- Too Long Source/Target Deleted\t--> Rows: 644\n",
            "--- HTML Removed\t\t\t--> Rows: 644\n",
            "--- Rows will remain in true-cased\t--> Rows: 644\n",
            "--- Rows with Empty Cells Deleted\t--> Rows: 644\n",
            "--- Rows Shuffled\t\t\t--> Rows: 644\n",
            "--- Source Saved: ELRC-3299-EUROPARL_covid.en-es.es-filtered.es\n",
            "--- Target Saved: ELRC-3299-EUROPARL_covid.en-es.en-filtered.en\n",
            "\n",
            "••• ELRC-3470-EC_EUROPA_covid.en-es.es ELRC-3470-EC_EUROPA_covid.en-es.en\n",
            "Dataframe shape (rows, columns): (2926, 2)\n",
            "--- Rows with Empty Cells Deleted\t--> Rows: 2925\n",
            "--- Duplicates Deleted\t\t\t--> Rows: 2925\n",
            "--- Source-Copied Rows Deleted\t\t--> Rows: 2925\n",
            "--- Too Long Source/Target Deleted\t--> Rows: 2897\n",
            "--- HTML Removed\t\t\t--> Rows: 2897\n",
            "--- Rows will remain in true-cased\t--> Rows: 2897\n",
            "--- Rows with Empty Cells Deleted\t--> Rows: 2897\n",
            "--- Rows Shuffled\t\t\t--> Rows: 2897\n",
            "--- Source Saved: ELRC-3470-EC_EUROPA_covid.en-es.es-filtered.es\n",
            "--- Target Saved: ELRC-3470-EC_EUROPA_covid.en-es.en-filtered.en\n",
            "\n",
            "••• ELRC-3571-EUR_LEX_covid.en-es.es ELRC-3571-EUR_LEX_covid.en-es.en\n",
            "Dataframe shape (rows, columns): (23334, 2)\n",
            "--- Rows with Empty Cells Deleted\t--> Rows: 23333\n",
            "--- Duplicates Deleted\t\t\t--> Rows: 23333\n",
            "--- Source-Copied Rows Deleted\t\t--> Rows: 23333\n",
            "--- Too Long Source/Target Deleted\t--> Rows: 23213\n",
            "--- HTML Removed\t\t\t--> Rows: 23213\n",
            "--- Rows will remain in true-cased\t--> Rows: 23213\n",
            "--- Rows with Empty Cells Deleted\t--> Rows: 23213\n",
            "--- Rows Shuffled\t\t\t--> Rows: 23213\n",
            "--- Source Saved: ELRC-3571-EUR_LEX_covid.en-es.es-filtered.es\n",
            "--- Target Saved: ELRC-3571-EUR_LEX_covid.en-es.en-filtered.en\n",
            "\n",
            "••• ELRC-3612-presscorner_covid.en-es.es ELRC-3612-presscorner_covid.en-es.en\n",
            "Dataframe shape (rows, columns): (7297, 2)\n",
            "--- Rows with Empty Cells Deleted\t--> Rows: 7296\n",
            "--- Duplicates Deleted\t\t\t--> Rows: 7296\n",
            "--- Source-Copied Rows Deleted\t\t--> Rows: 7296\n",
            "--- Too Long Source/Target Deleted\t--> Rows: 7249\n",
            "--- HTML Removed\t\t\t--> Rows: 7249\n",
            "--- Rows will remain in true-cased\t--> Rows: 7249\n",
            "--- Rows with Empty Cells Deleted\t--> Rows: 7249\n",
            "--- Rows Shuffled\t\t\t--> Rows: 7249\n",
            "--- Source Saved: ELRC-3612-presscorner_covid.en-es.es-filtered.es\n",
            "--- Target Saved: ELRC-3612-presscorner_covid.en-es.en-filtered.en\n",
            "\n",
            "••• ELRC-EUIPO_list.en-es.es ELRC-EUIPO_list.en-es.en\n",
            "Dataframe shape (rows, columns): (32183, 2)\n",
            "--- Rows with Empty Cells Deleted\t--> Rows: 32182\n",
            "--- Duplicates Deleted\t\t\t--> Rows: 32182\n",
            "--- Source-Copied Rows Deleted\t\t--> Rows: 32132\n",
            "--- Too Long Source/Target Deleted\t--> Rows: 32129\n",
            "--- HTML Removed\t\t\t--> Rows: 32129\n",
            "--- Rows will remain in true-cased\t--> Rows: 32129\n",
            "--- Rows with Empty Cells Deleted\t--> Rows: 32129\n",
            "--- Rows Shuffled\t\t\t--> Rows: 32129\n",
            "--- Source Saved: ELRC-EUIPO_list.en-es.es-filtered.es\n",
            "--- Target Saved: ELRC-EUIPO_list.en-es.en-filtered.en\n",
            "\n",
            "••• ELRC-EUROPARL_covid.en-es.es ELRC-EUROPARL_covid.en-es.en\n",
            "Dataframe shape (rows, columns): (661, 2)\n",
            "--- Rows with Empty Cells Deleted\t--> Rows: 660\n",
            "--- Duplicates Deleted\t\t\t--> Rows: 660\n",
            "--- Source-Copied Rows Deleted\t\t--> Rows: 660\n",
            "--- Too Long Source/Target Deleted\t--> Rows: 644\n",
            "--- HTML Removed\t\t\t--> Rows: 644\n",
            "--- Rows will remain in true-cased\t--> Rows: 644\n",
            "--- Rows with Empty Cells Deleted\t--> Rows: 644\n",
            "--- Rows Shuffled\t\t\t--> Rows: 644\n",
            "--- Source Saved: ELRC-EUROPARL_covid.en-es.es-filtered.es\n",
            "--- Target Saved: ELRC-EUROPARL_covid.en-es.en-filtered.en\n",
            "\n",
            "••• ELRC-antibiotic.en-es.es ELRC-antibiotic.en-es.en\n",
            "Dataframe shape (rows, columns): (937, 2)\n",
            "--- Rows with Empty Cells Deleted\t--> Rows: 936\n",
            "--- Duplicates Deleted\t\t\t--> Rows: 936\n",
            "--- Source-Copied Rows Deleted\t\t--> Rows: 936\n",
            "--- Too Long Source/Target Deleted\t--> Rows: 921\n",
            "--- HTML Removed\t\t\t--> Rows: 921\n",
            "--- Rows will remain in true-cased\t--> Rows: 921\n",
            "--- Rows with Empty Cells Deleted\t--> Rows: 921\n",
            "--- Rows Shuffled\t\t\t--> Rows: 921\n",
            "--- Source Saved: ELRC-antibiotic.en-es.es-filtered.es\n",
            "--- Target Saved: ELRC-antibiotic.en-es.en-filtered.en\n",
            "\n",
            "••• ELRC-presscorner_covid.en-es.es ELRC-presscorner_covid.en-es.en\n",
            "Dataframe shape (rows, columns): (7297, 2)\n",
            "--- Rows with Empty Cells Deleted\t--> Rows: 7296\n",
            "--- Duplicates Deleted\t\t\t--> Rows: 7296\n",
            "--- Source-Copied Rows Deleted\t\t--> Rows: 7296\n",
            "--- Too Long Source/Target Deleted\t--> Rows: 7249\n",
            "--- HTML Removed\t\t\t--> Rows: 7249\n",
            "--- Rows will remain in true-cased\t--> Rows: 7249\n",
            "--- Rows with Empty Cells Deleted\t--> Rows: 7249\n",
            "--- Rows Shuffled\t\t\t--> Rows: 7249\n",
            "--- Source Saved: ELRC-presscorner_covid.en-es.es-filtered.es\n",
            "--- Target Saved: ELRC-presscorner_covid.en-es.en-filtered.en\n",
            "\n",
            "••• ELRC-wikipedia_health.en-es.es ELRC-wikipedia_health.en-es.en\n",
            "Dataframe shape (rows, columns): (5115, 2)\n",
            "--- Rows with Empty Cells Deleted\t--> Rows: 5114\n",
            "--- Duplicates Deleted\t\t\t--> Rows: 5114\n",
            "--- Source-Copied Rows Deleted\t\t--> Rows: 5112\n",
            "--- Too Long Source/Target Deleted\t--> Rows: 5028\n",
            "--- HTML Removed\t\t\t--> Rows: 5028\n",
            "--- Rows will remain in true-cased\t--> Rows: 5028\n",
            "--- Rows with Empty Cells Deleted\t--> Rows: 5028\n",
            "--- Rows Shuffled\t\t\t--> Rows: 5028\n",
            "--- Source Saved: ELRC-wikipedia_health.en-es.es-filtered.es\n",
            "--- Target Saved: ELRC-wikipedia_health.en-es.en-filtered.en\n",
            "\n",
            "••• ELRC_2682.en-es.es ELRC_2682.en-es.en\n",
            "Dataframe shape (rows, columns): (244902, 2)\n",
            "--- Rows with Empty Cells Deleted\t--> Rows: 244897\n",
            "--- Duplicates Deleted\t\t\t--> Rows: 244843\n",
            "--- Source-Copied Rows Deleted\t\t--> Rows: 244843\n",
            "--- Too Long Source/Target Deleted\t--> Rows: 240551\n",
            "--- HTML Removed\t\t\t--> Rows: 240551\n",
            "--- Rows will remain in true-cased\t--> Rows: 240551\n",
            "--- Rows with Empty Cells Deleted\t--> Rows: 240479\n",
            "--- Rows Shuffled\t\t\t--> Rows: 240479\n",
            "--- Source Saved: ELRC_2682.en-es.es-filtered.es\n",
            "--- Target Saved: ELRC_2682.en-es.en-filtered.en\n",
            "\n",
            "••• ELRC_2922.en-es.es ELRC_2922.en-es.en\n",
            "Dataframe shape (rows, columns): (5114, 2)\n",
            "--- Rows with Empty Cells Deleted\t--> Rows: 5114\n",
            "--- Duplicates Deleted\t\t\t--> Rows: 5114\n",
            "--- Source-Copied Rows Deleted\t\t--> Rows: 5112\n",
            "--- Too Long Source/Target Deleted\t--> Rows: 5003\n",
            "--- HTML Removed\t\t\t--> Rows: 5003\n",
            "--- Rows will remain in true-cased\t--> Rows: 5003\n",
            "--- Rows with Empty Cells Deleted\t--> Rows: 5003\n",
            "--- Rows Shuffled\t\t\t--> Rows: 5003\n",
            "--- Source Saved: ELRC_2922.en-es.es-filtered.es\n",
            "--- Target Saved: ELRC_2922.en-es.en-filtered.en\n",
            "\n",
            "••• ELRC_2923.en-es.es ELRC_2923.en-es.en\n",
            "Dataframe shape (rows, columns): (526, 2)\n",
            "--- Rows with Empty Cells Deleted\t--> Rows: 526\n",
            "--- Duplicates Deleted\t\t\t--> Rows: 526\n",
            "--- Source-Copied Rows Deleted\t\t--> Rows: 526\n",
            "--- Too Long Source/Target Deleted\t--> Rows: 507\n",
            "--- HTML Removed\t\t\t--> Rows: 507\n",
            "--- Rows will remain in true-cased\t--> Rows: 507\n",
            "--- Rows with Empty Cells Deleted\t--> Rows: 507\n",
            "--- Rows Shuffled\t\t\t--> Rows: 507\n",
            "--- Source Saved: ELRC_2923.en-es.es-filtered.es\n",
            "--- Target Saved: ELRC_2923.en-es.en-filtered.en\n",
            "\n",
            "••• ELRC_3382.en-es.es ELRC_3382.en-es.en\n",
            "Dataframe shape (rows, columns): (3698, 2)\n",
            "--- Rows with Empty Cells Deleted\t--> Rows: 3698\n",
            "--- Duplicates Deleted\t\t\t--> Rows: 3698\n",
            "--- Source-Copied Rows Deleted\t\t--> Rows: 3698\n",
            "--- Too Long Source/Target Deleted\t--> Rows: 3664\n",
            "--- HTML Removed\t\t\t--> Rows: 3664\n",
            "--- Rows will remain in true-cased\t--> Rows: 3664\n",
            "--- Rows with Empty Cells Deleted\t--> Rows: 3664\n",
            "--- Rows Shuffled\t\t\t--> Rows: 3664\n",
            "--- Source Saved: ELRC_3382.en-es.es-filtered.es\n",
            "--- Target Saved: ELRC_3382.en-es.en-filtered.en\n",
            "\n",
            "••• EMEA.en-es.es EMEA.en-es.en\n",
            "Dataframe shape (rows, columns): (1098333, 2)\n",
            "--- Rows with Empty Cells Deleted\t--> Rows: 1098289\n",
            "--- Duplicates Deleted\t\t\t--> Rows: 366879\n",
            "--- Source-Copied Rows Deleted\t\t--> Rows: 343461\n",
            "--- Too Long Source/Target Deleted\t--> Rows: 312008\n",
            "--- HTML Removed\t\t\t--> Rows: 312008\n",
            "--- Rows will remain in true-cased\t--> Rows: 312008\n",
            "--- Rows with Empty Cells Deleted\t--> Rows: 311904\n",
            "--- Rows Shuffled\t\t\t--> Rows: 311904\n",
            "--- Source Saved: EMEA.en-es.es-filtered.es\n",
            "--- Target Saved: EMEA.en-es.en-filtered.en\n",
            "\n",
            "••• SciELO.en-es.es SciELO.en-es.en\n",
            "Dataframe shape (rows, columns): (433695, 2)\n",
            "--- Rows with Empty Cells Deleted\t--> Rows: 433695\n",
            "--- Duplicates Deleted\t\t\t--> Rows: 416322\n",
            "--- Source-Copied Rows Deleted\t\t--> Rows: 416311\n",
            "--- Too Long Source/Target Deleted\t--> Rows: 411814\n",
            "--- HTML Removed\t\t\t--> Rows: 411814\n",
            "--- Rows will remain in true-cased\t--> Rows: 411814\n",
            "--- Rows with Empty Cells Deleted\t--> Rows: 411814\n",
            "--- Rows Shuffled\t\t\t--> Rows: 411814\n",
            "--- Source Saved: SciELO.en-es.es-filtered.es\n",
            "--- Target Saved: SciELO.en-es.en-filtered.en\n",
            "\n",
            "••• tico-19.en-es.es tico-19.en-es.en\n",
            "Dataframe shape (rows, columns): (3071, 2)\n",
            "--- Rows with Empty Cells Deleted\t--> Rows: 3071\n",
            "--- Duplicates Deleted\t\t\t--> Rows: 3070\n",
            "--- Source-Copied Rows Deleted\t\t--> Rows: 3070\n",
            "--- Too Long Source/Target Deleted\t--> Rows: 3055\n",
            "--- HTML Removed\t\t\t--> Rows: 3055\n",
            "--- Rows will remain in true-cased\t--> Rows: 3055\n",
            "--- Rows with Empty Cells Deleted\t--> Rows: 3055\n",
            "--- Rows Shuffled\t\t\t--> Rows: 3055\n",
            "--- Source Saved: tico-19.en-es.es-filtered.es\n",
            "--- Target Saved: tico-19.en-es.en-filtered.en\n"
          ]
        }
      ],
      "source": [
        "from filter import prepare\n",
        "\n",
        "print(\"Filtering files...\")\n",
        "\n",
        "for source_file, target_file in zip(source_files, target_files):\n",
        "    print(\"\\n•••\", source_file, target_file)\n",
        "    prepare(source_file, target_file, srclang, tgtlang)"
      ]
    },
    {
      "cell_type": "code",
      "source": [
        "!wget -qq https://github.com/ymoslem/MT-Preparation/raw/main/filtering/semantic_filter.py -O semantic_filter.py"
      ],
      "metadata": {
        "id": "jJ-bmf0210bb"
      },
      "execution_count": null,
      "outputs": []
    },
    {
      "cell_type": "code",
      "source": [
        "!pip3 install sentence_transformers -q"
      ],
      "metadata": {
        "colab": {
          "base_uri": "https://localhost:8080/"
        },
        "id": "0cP2QTb_2MzR",
        "outputId": "1a319a2f-9751-41b8-8568-d2b6e5ce66fb"
      },
      "execution_count": null,
      "outputs": [
        {
          "output_type": "stream",
          "name": "stdout",
          "text": [
            "\u001b[2K     \u001b[90m━━━━━━━━━━━━━━━━━━━━━━━━━━━━━━━━━━━━━━━━\u001b[0m \u001b[32m86.0/86.0 kB\u001b[0m \u001b[31m2.8 MB/s\u001b[0m eta \u001b[36m0:00:00\u001b[0m\n",
            "\u001b[?25h  Preparing metadata (setup.py) ... \u001b[?25l\u001b[?25hdone\n",
            "\u001b[2K     \u001b[90m━━━━━━━━━━━━━━━━━━━━━━━━━━━━━━━━━━━━━━━━\u001b[0m \u001b[32m7.7/7.7 MB\u001b[0m \u001b[31m25.7 MB/s\u001b[0m eta \u001b[36m0:00:00\u001b[0m\n",
            "\u001b[2K     \u001b[90m━━━━━━━━━━━━━━━━━━━━━━━━━━━━━━━━━━━━━━━━\u001b[0m \u001b[32m1.3/1.3 MB\u001b[0m \u001b[31m73.8 MB/s\u001b[0m eta \u001b[36m0:00:00\u001b[0m\n",
            "\u001b[2K     \u001b[90m━━━━━━━━━━━━━━━━━━━━━━━━━━━━━━━━━━━━━━━━\u001b[0m \u001b[32m302.0/302.0 kB\u001b[0m \u001b[31m37.6 MB/s\u001b[0m eta \u001b[36m0:00:00\u001b[0m\n",
            "\u001b[2K     \u001b[90m━━━━━━━━━━━━━━━━━━━━━━━━━━━━━━━━━━━━━━━━\u001b[0m \u001b[32m3.8/3.8 MB\u001b[0m \u001b[31m105.6 MB/s\u001b[0m eta \u001b[36m0:00:00\u001b[0m\n",
            "\u001b[2K     \u001b[90m━━━━━━━━━━━━━━━━━━━━━━━━━━━━━━━━━━━━━━━━\u001b[0m \u001b[32m1.3/1.3 MB\u001b[0m \u001b[31m86.2 MB/s\u001b[0m eta \u001b[36m0:00:00\u001b[0m\n",
            "\u001b[2K     \u001b[90m━━━━━━━━━━━━━━━━━━━━━━━━━━━━━━━━━━━━━━━━\u001b[0m \u001b[32m295.0/295.0 kB\u001b[0m \u001b[31m36.9 MB/s\u001b[0m eta \u001b[36m0:00:00\u001b[0m\n",
            "\u001b[?25h  Building wheel for sentence_transformers (setup.py) ... \u001b[?25l\u001b[?25hdone\n"
          ]
        }
      ]
    },
    {
      "cell_type": "markdown",
      "source": [
        "# Semantic Filtering"
      ],
      "metadata": {
        "id": "vofYe7rkkjTd"
      }
    },
    {
      "cell_type": "code",
      "execution_count": null,
      "metadata": {
        "ExecuteTime": {
          "start_time": "2022-05-08T15:20:42.018Z"
        },
        "colab": {
          "base_uri": "https://localhost:8080/"
        },
        "id": "H0puDpBQcx2E",
        "outputId": "9273d048-fb64-4e2d-de3a-8b694419a070"
      },
      "outputs": [
        {
          "output_type": "stream",
          "name": "stdout",
          "text": [
            "Model loaded: distiluse-base-multilingual-cased-v1\n",
            "Semanticly filtering files...\n",
            "\n",
            "\n",
            "••• ELRC-3077-wikipedia_health.en-es.es-filtered.es ELRC-3077-wikipedia_health.en-es.en-filtered.en\n",
            "Originsl line count: 5028\n",
            "5000 | 5028 | New line count: 5028\n",
            "ELRC-3077-wikipedia_health.en-es.es-filtered.es.semantic.es\n",
            "ELRC-3077-wikipedia_health.en-es.en-filtered.en.semantic.en\n",
            "\n",
            "\n",
            "••• ELRC-3210-antibiotic.en-es.es-filtered.es ELRC-3210-antibiotic.en-es.en-filtered.en\n",
            "Originsl line count: 921\n",
            "921 | New line count: 921\n",
            "ELRC-3210-antibiotic.en-es.es-filtered.es.semantic.es\n",
            "ELRC-3210-antibiotic.en-es.en-filtered.en.semantic.en\n",
            "\n",
            "\n",
            "••• ELRC-3299-EUROPARL_covid.en-es.es-filtered.es ELRC-3299-EUROPARL_covid.en-es.en-filtered.en\n",
            "Originsl line count: 644\n",
            "644 | New line count: 644\n",
            "ELRC-3299-EUROPARL_covid.en-es.es-filtered.es.semantic.es\n",
            "ELRC-3299-EUROPARL_covid.en-es.en-filtered.en.semantic.en\n",
            "\n",
            "\n",
            "••• ELRC-3470-EC_EUROPA_covid.en-es.es-filtered.es ELRC-3470-EC_EUROPA_covid.en-es.en-filtered.en\n",
            "Originsl line count: 2897\n",
            "2897 | New line count: 2897\n",
            "ELRC-3470-EC_EUROPA_covid.en-es.es-filtered.es.semantic.es\n",
            "ELRC-3470-EC_EUROPA_covid.en-es.en-filtered.en.semantic.en\n",
            "\n",
            "\n",
            "••• ELRC-3571-EUR_LEX_covid.en-es.es-filtered.es ELRC-3571-EUR_LEX_covid.en-es.en-filtered.en\n",
            "Originsl line count: 23213\n",
            "5000 | 10000 | 15000 | 20000 | 23213 | New line count: 23213\n",
            "ELRC-3571-EUR_LEX_covid.en-es.es-filtered.es.semantic.es\n",
            "ELRC-3571-EUR_LEX_covid.en-es.en-filtered.en.semantic.en\n",
            "\n",
            "\n",
            "••• ELRC-3612-presscorner_covid.en-es.es-filtered.es ELRC-3612-presscorner_covid.en-es.en-filtered.en\n",
            "Originsl line count: 7249\n",
            "5000 | 7249 | New line count: 7249\n",
            "ELRC-3612-presscorner_covid.en-es.es-filtered.es.semantic.es\n",
            "ELRC-3612-presscorner_covid.en-es.en-filtered.en.semantic.en\n",
            "\n",
            "\n",
            "••• ELRC-EUIPO_list.en-es.es-filtered.es ELRC-EUIPO_list.en-es.en-filtered.en\n",
            "Originsl line count: 32129\n",
            "5000 | 10000 | 15000 | 20000 | 25000 | 30000 | 32129 | New line count: 32129\n",
            "ELRC-EUIPO_list.en-es.es-filtered.es.semantic.es\n",
            "ELRC-EUIPO_list.en-es.en-filtered.en.semantic.en\n",
            "\n",
            "\n",
            "••• ELRC-EUROPARL_covid.en-es.es-filtered.es ELRC-EUROPARL_covid.en-es.en-filtered.en\n",
            "Originsl line count: 644\n",
            "644 | New line count: 644\n",
            "ELRC-EUROPARL_covid.en-es.es-filtered.es.semantic.es\n",
            "ELRC-EUROPARL_covid.en-es.en-filtered.en.semantic.en\n",
            "\n",
            "\n",
            "••• ELRC-antibiotic.en-es.es-filtered.es ELRC-antibiotic.en-es.en-filtered.en\n",
            "Originsl line count: 921\n",
            "921 | New line count: 921\n",
            "ELRC-antibiotic.en-es.es-filtered.es.semantic.es\n",
            "ELRC-antibiotic.en-es.en-filtered.en.semantic.en\n",
            "\n",
            "\n",
            "••• ELRC-presscorner_covid.en-es.es-filtered.es ELRC-presscorner_covid.en-es.en-filtered.en\n",
            "Originsl line count: 7249\n",
            "5000 | 7249 | New line count: 7249\n",
            "ELRC-presscorner_covid.en-es.es-filtered.es.semantic.es\n",
            "ELRC-presscorner_covid.en-es.en-filtered.en.semantic.en\n",
            "\n",
            "\n",
            "••• ELRC-wikipedia_health.en-es.es-filtered.es ELRC-wikipedia_health.en-es.en-filtered.en\n",
            "Originsl line count: 5028\n",
            "5000 | 5028 | New line count: 5028\n",
            "ELRC-wikipedia_health.en-es.es-filtered.es.semantic.es\n",
            "ELRC-wikipedia_health.en-es.en-filtered.en.semantic.en\n",
            "\n",
            "\n",
            "••• ELRC_2682.en-es.es-filtered.es ELRC_2682.en-es.en-filtered.en\n",
            "Originsl line count: 240479\n",
            "5000 | 10000 | 15000 | 20000 | 25000 | 30000 | 35000 | 40000 | 45000 | 50000 | 55000 | 60000 | 65000 | 70000 | 75000 | 80000 | 85000 | 90000 | 95000 | 100000 | 105000 | 110000 | 115000 | 120000 | 125000 | 130000 | 135000 | 140000 | 145000 | 150000 | 155000 | 160000 | 165000 | 170000 | 175000 | 180000 | 185000 | 190000 | 195000 | 200000 | 205000 | 210000 | 215000 | 220000 | 225000 | 230000 | 235000 | 240000 | 240479 | New line count: 240479\n",
            "ELRC_2682.en-es.es-filtered.es.semantic.es\n",
            "ELRC_2682.en-es.en-filtered.en.semantic.en\n",
            "\n",
            "\n",
            "••• ELRC_2922.en-es.es-filtered.es ELRC_2922.en-es.en-filtered.en\n",
            "Originsl line count: 5003\n",
            "5000 | 5003 | New line count: 5003\n",
            "ELRC_2922.en-es.es-filtered.es.semantic.es\n",
            "ELRC_2922.en-es.en-filtered.en.semantic.en\n",
            "\n",
            "\n",
            "••• ELRC_2923.en-es.es-filtered.es ELRC_2923.en-es.en-filtered.en\n",
            "Originsl line count: 507\n",
            "507 | New line count: 507\n",
            "ELRC_2923.en-es.es-filtered.es.semantic.es\n",
            "ELRC_2923.en-es.en-filtered.en.semantic.en\n",
            "\n",
            "\n",
            "••• ELRC_3382.en-es.es-filtered.es ELRC_3382.en-es.en-filtered.en\n",
            "Originsl line count: 3664\n",
            "3664 | New line count: 3664\n",
            "ELRC_3382.en-es.es-filtered.es.semantic.es\n",
            "ELRC_3382.en-es.en-filtered.en.semantic.en\n",
            "\n",
            "\n",
            "••• EMEA.en-es.es-filtered.es EMEA.en-es.en-filtered.en\n",
            "Originsl line count: 311904\n",
            "5000 | 10000 | 15000 | 20000 | 25000 | 30000 | 35000 | 40000 | 45000 | 50000 | 55000 | 60000 | 65000 | 70000 | 75000 | 80000 | 85000 | 90000 | 95000 | 100000 | 105000 | 110000 | 115000 | 120000 | 125000 | 130000 | 135000 | 140000 | 145000 | 150000 | 155000 | 160000 | 165000 | 170000 | 175000 | 180000 | 185000 | 190000 | 195000 | 200000 | 205000 | 210000 | 215000 | 220000 | 225000 | 230000 | 235000 | 240000 | 245000 | 250000 | 255000 | 260000 | 265000 | 270000 | 275000 | 280000 | 285000 | 290000 | 295000 | 300000 | 305000 | 310000 | 311904 | New line count: 311904\n",
            "EMEA.en-es.es-filtered.es.semantic.es\n",
            "EMEA.en-es.en-filtered.en.semantic.en\n",
            "\n",
            "\n",
            "••• SciELO.en-es.es-filtered.es SciELO.en-es.en-filtered.en\n",
            "Originsl line count: 411814\n",
            "5000 | 10000 | 15000 | 20000 | 25000 | 30000 | 35000 | 40000 | 45000 | 50000 | 55000 | 60000 | 65000 | 70000 | 75000 | 80000 | 85000 | 90000 | 95000 | 100000 | 105000 | 110000 | 115000 | 120000 | 125000 | 130000 | 135000 | 140000 | 145000 | 150000 | 155000 | 160000 | 165000 | 170000 | 175000 | 180000 | 185000 | 190000 | 195000 | 200000 | 205000 | 210000 | 215000 | 220000 | 225000 | 230000 | 235000 | 240000 | 245000 | 250000 | 255000 | 260000 | 265000 | 270000 | 275000 | 280000 | 285000 | 290000 | 295000 | 300000 | 305000 | 310000 | 315000 | 320000 | 325000 | 330000 | 335000 | 340000 | 345000 | 350000 | 355000 | 360000 | 365000 | 370000 | 375000 | 380000 | 385000 | 390000 | 395000 | 400000 | 405000 | 410000 | 411814 | New line count: 411814\n",
            "SciELO.en-es.es-filtered.es.semantic.es\n",
            "SciELO.en-es.en-filtered.en.semantic.en\n",
            "\n",
            "\n",
            "••• tico-19.en-es.es-filtered.es tico-19.en-es.en-filtered.en\n",
            "Originsl line count: 3055\n",
            "3055 | New line count: 3055\n",
            "tico-19.en-es.es-filtered.es.semantic.es\n",
            "tico-19.en-es.en-filtered.en.semantic.en\n"
          ]
        }
      ],
      "source": [
        "from semantic_filter import filter, line_count\n",
        "from sentence_transformers import SentenceTransformer\n",
        "\n",
        "\n",
        "muse_langs = ['ar', 'de', 'en', 'es', 'fr', 'it', 'ko', 'nl', 'pt', 'pt', 'ru', 'tr', 'zh']\n",
        "para_langs = [\"ar\", \"bg\", \"ca\", \"cs\", \"da\", \"de\", \"en\", \"el\", \"es\", \"et\", \"fa\", \"fi\", \"fr\", \"gl\", \"gu\", \"he\", \"hi\", \"hr\", \"hu\", \"hy\", \"id\", \"it\", \"ja\", \"ka\", \"ko\", \"ku\", \"lt\", \"lv\", \"mk\", \"mn\", \"mr\", \"ms\", \"my\", \"nb\", \"nl\", \"pl\", \"pt\", \"pt\", \"ro\", \"ru\", \"sk\", \"sl\", \"sq\", \"sr\", \"sv\", \"th\", \"tr\", \"uk\", \"ur\", \"vi\", \"zh\"]\n",
        "\n",
        "# Download and load the model\n",
        "model_cache = \"/content/drive/Shareddrives/adapt-yasmin/models\"\n",
        "\n",
        "if srclang in muse_langs and tgtlang in muse_langs:\n",
        "    model_name = \"distiluse-base-multilingual-cased-v1\"  # 15 languages\n",
        "elif srclang in para_langs and tgtlang in para_langs:\n",
        "    model_name = \"paraphrase-multilingual-MiniLM-L12-v2\"  # 50 languages\n",
        "else:\n",
        "    raise SystemExit(\"Language pair is not supported!\")\n",
        "\n",
        "\n",
        "\n",
        "model = SentenceTransformer(model_name, device=\"cuda\", cache_folder=model_cache)\n",
        "print(\"Model loaded:\", model_name)\n",
        "\n",
        "threshold = 0.45\n",
        "chunk_size = 5000  # or more if memory allows\n",
        "\n",
        "# Start a multiprocessing pool\n",
        "pool = model.start_multi_process_pool()\n",
        "\n",
        "\n",
        "print(\"Semanticly filtering files...\")\n",
        "\n",
        "for source_file, target_file in zip(source_files, target_files):\n",
        "    source_file = source_file + \"-filtered.\" + srclang\n",
        "    target_file = target_file + \"-filtered.\" + tgtlang\n",
        "    print(\"\\n\\n•••\", source_file, target_file)\n",
        "\n",
        "    file_line_count = line_count(source_file)\n",
        "    print(\"Originsl line count:\", file_line_count)\n",
        "\n",
        "    # Filter\n",
        "    filter(source_file,\n",
        "           target_file,\n",
        "           srclang,\n",
        "           tgtlang,\n",
        "           model,\n",
        "           pool,\n",
        "           threshold,\n",
        "           chunk_size,\n",
        "           file_line_count\n",
        "           )\n",
        "\n",
        "    file_line_count_after_filtering = line_count(source_file + \".semantic.\" + srclang)\n",
        "    print(\"New line count:\", file_line_count)\n",
        "    print(source_file + \".semantic.\" + srclang)\n",
        "    print(target_file + \".semantic.\" + tgtlang)\n",
        "\n",
        "# Close the the multiprocessing pool\n",
        "model.stop_multi_process_pool(pool)"
      ]
    },
    {
      "cell_type": "markdown",
      "metadata": {
        "id": "mAvVATpxcx2G"
      },
      "source": [
        "# Global Filtering"
      ]
    },
    {
      "cell_type": "code",
      "execution_count": null,
      "metadata": {
        "id": "DbSiq6_Kcx2G",
        "outputId": "1e4723e9-fae2-4ff4-b9f7-d6850f1c723b",
        "colab": {
          "base_uri": "https://localhost:8080/"
        }
      },
      "outputs": [
        {
          "output_type": "stream",
          "name": "stdout",
          "text": [
            "1037465 all.en\n",
            "1037465 all.es\n"
          ]
        }
      ],
      "source": [
        "!cat *semantic.en > all.en\n",
        "!wc -l all.en\n",
        "\n",
        "!cat *semantic.es > all.es\n",
        "!wc -l all.es"
      ]
    },
    {
      "cell_type": "code",
      "source": [
        "!ls all.*"
      ],
      "metadata": {
        "colab": {
          "base_uri": "https://localhost:8080/"
        },
        "id": "YtNie172-kS9",
        "outputId": "28cb1317-3bc0-4bc4-8768-bbd3654d2cc8"
      },
      "execution_count": null,
      "outputs": [
        {
          "output_type": "stream",
          "name": "stdout",
          "text": [
            "all.en\tall.es\n"
          ]
        }
      ]
    },
    {
      "cell_type": "code",
      "execution_count": null,
      "metadata": {
        "id": "e-kzl1pncx2G",
        "outputId": "5374def2-4b8e-462c-95c9-2e766ad5b64f",
        "colab": {
          "base_uri": "https://localhost:8080/"
        }
      },
      "outputs": [
        {
          "output_type": "stream",
          "name": "stdout",
          "text": [
            "Filtering the 'all.*' files...\n",
            "Dataframe shape (rows, columns): (1037465, 2)\n",
            "--- Rows with Empty Cells Deleted\t--> Rows: 1037465\n",
            "--- Duplicates Deleted\t\t\t--> Rows: 991108\n",
            "--- Too-Long Source/Target Deleted\t--> Rows: 922343\n",
            "--- Rows with Empty Cells Deleted\t--> Rows: 922343\n",
            "--- Rows Shuffled\t\t\t--> Rows: 922343\n",
            "--- Source Saved: all.es-filtered.es\n",
            "--- Target Saved: all.en-filtered.en\n",
            "Done!\n"
          ]
        }
      ],
      "source": [
        "# Remove duplicates from the all.* files\n",
        "from global_filter import prepare\n",
        "\n",
        "source_file = \"all.\" + srclang\n",
        "target_file = \"all.\" + tgtlang\n",
        "\n",
        "print(\"Filtering the 'all.*' files...\")\n",
        "\n",
        "prepare(source_file, target_file, srclang, tgtlang)\n",
        "\n",
        "print(\"Done!\")"
      ]
    },
    {
      "cell_type": "markdown",
      "metadata": {
        "id": "TFHBhx4-cx2J"
      },
      "source": [
        "# Split Train, Dev and Test"
      ]
    },
    {
      "cell_type": "code",
      "source": [
        "!wget -qq https://github.com/ymoslem/MT-Preparation/raw/main/train_dev_split/train_dev_test_split.py -O train_dev_test_split.py"
      ],
      "metadata": {
        "id": "J52XoYv0txEF"
      },
      "execution_count": null,
      "outputs": []
    },
    {
      "cell_type": "code",
      "execution_count": null,
      "metadata": {
        "id": "O1Bl44DZcx2J",
        "outputId": "64bb49f3-ae5b-48c7-a772-c8dfb7f3d3fd",
        "colab": {
          "base_uri": "https://localhost:8080/"
        }
      },
      "outputs": [
        {
          "output_type": "stream",
          "name": "stdout",
          "text": [
            "Splitting files:\n",
            "all.es-filtered.es\n",
            "all.en-filtered.en\n",
            "Dataframe shape: (922343, 2)\n",
            "--- Empty Cells Deleted --> Rows: 922343\n",
            "--- Wrote Files\n",
            "Done!\n",
            "Output files\n",
            "all.es-filtered.es.train\n",
            "all.en-filtered.en.train\n",
            "all.es-filtered.es.dev\n",
            "all.en-filtered.en.dev\n",
            "all.es-filtered.es.test\n",
            "all.en-filtered.en.test\n"
          ]
        }
      ],
      "source": [
        "from train_dev_test_split import split_dataset\n",
        "\n",
        "source_file = f\"all.{srclang}-filtered.{srclang}\"\n",
        "target_file = f\"all.{tgtlang}-filtered.{tgtlang}\"\n",
        "\n",
        "segment_no_dev = 60000\n",
        "segment_no_test = 60000\n",
        "\n",
        "print(\"Splitting files:\", source_file, target_file, sep=\"\\n\")\n",
        "\n",
        "split_dataset(segment_no_dev, segment_no_test, source_file, target_file)"
      ]
    },
    {
      "cell_type": "code",
      "source": [
        "!wc -l all.es-filtered.*"
      ],
      "metadata": {
        "colab": {
          "base_uri": "https://localhost:8080/"
        },
        "id": "XJZQd0Yoj1Yv",
        "outputId": "9f316ce0-e79d-490e-cd29-d5101573c542"
      },
      "execution_count": null,
      "outputs": [
        {
          "output_type": "stream",
          "name": "stdout",
          "text": [
            "   922343 all.es-filtered.es\n",
            "    60000 all.es-filtered.es.dev\n",
            "    60000 all.es-filtered.es.test\n",
            "   802343 all.es-filtered.es.train\n",
            "  1844686 total\n"
          ]
        }
      ]
    },
    {
      "cell_type": "markdown",
      "source": [
        "## Extract a unique \"Context Dataset\" to retrieve fuzzy matches"
      ],
      "metadata": {
        "id": "B6DbbYSKpvwi"
      }
    },
    {
      "cell_type": "code",
      "source": [
        "!head -n 10000 all.es-filtered.es.test > all.es-filtered.es.real.test\n",
        "!tail -n 50000 all.es-filtered.es.test > all.es-filtered.es.fuzzy.test\n",
        "\n",
        "!head -n 10000 all.es-filtered.es.dev > all.es-filtered.es.real.dev\n",
        "!tail -n 50000 all.es-filtered.es.dev > all.es-filtered.es.fuzzy.dev"
      ],
      "metadata": {
        "id": "VFpzK1p_h12f"
      },
      "execution_count": null,
      "outputs": []
    },
    {
      "cell_type": "code",
      "source": [
        "!head -n 10000 all.en-filtered.en.test > all.en-filtered.en.real.test\n",
        "!tail -n 50000 all.en-filtered.en.test > all.en-filtered.en.fuzzy.test\n",
        "\n",
        "!head -n 10000 all.en-filtered.en.dev > all.en-filtered.en.real.dev\n",
        "!tail -n 50000 all.en-filtered.en.dev > all.en-filtered.en.fuzzy.dev"
      ],
      "metadata": {
        "id": "APvBsGuALYdC"
      },
      "execution_count": null,
      "outputs": []
    },
    {
      "cell_type": "code",
      "source": [
        "!rename 's/all.en-/all-/g' *\n",
        "!rename 's/all.es-/all-/g' *"
      ],
      "metadata": {
        "id": "aGnMCh576UUA"
      },
      "execution_count": null,
      "outputs": []
    },
    {
      "cell_type": "code",
      "source": [
        "!wc -l all-filtered.*"
      ],
      "metadata": {
        "id": "tlfFkrEeUZ2k"
      },
      "execution_count": null,
      "outputs": []
    },
    {
      "cell_type": "code",
      "source": [
        "!head -n 5 all-filtered.es.test"
      ],
      "metadata": {
        "id": "JWnhyVBv66K1"
      },
      "execution_count": null,
      "outputs": []
    }
  ]
}