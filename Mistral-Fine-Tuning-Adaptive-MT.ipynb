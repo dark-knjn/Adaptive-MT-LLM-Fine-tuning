{
  "nbformat": 4,
  "nbformat_minor": 0,
  "metadata": {
    "colab": {
      "provenance": [],
      "machine_shape": "hm",
      "gpuType": "A100",
      "mount_file_id": "1OfmRfzm5BIujMPiNAcjN1-o41jrSVbMh",
      "authorship_tag": "ABX9TyMfZqrsL79jWDqTy4cNbDw4",
      "include_colab_link": true
    },
    "kernelspec": {
      "name": "python3",
      "display_name": "Python 3"
    },
    "language_info": {
      "name": "python"
    },
    "accelerator": "GPU",
    "widgets": {
      "application/vnd.jupyter.widget-state+json": {
        "c36b2efd2bb549bc9e3727a8687d35a2": {
          "model_module": "@jupyter-widgets/controls",
          "model_name": "HBoxModel",
          "model_module_version": "1.5.0",
          "state": {
            "_dom_classes": [],
            "_model_module": "@jupyter-widgets/controls",
            "_model_module_version": "1.5.0",
            "_model_name": "HBoxModel",
            "_view_count": null,
            "_view_module": "@jupyter-widgets/controls",
            "_view_module_version": "1.5.0",
            "_view_name": "HBoxView",
            "box_style": "",
            "children": [
              "IPY_MODEL_a52f501615044b1a9f94b89f96ed964f",
              "IPY_MODEL_f475ea5f9e98493ea9cae89e39f8dd6f",
              "IPY_MODEL_13315f84153b4a8eafc5eb475d46d3fe"
            ],
            "layout": "IPY_MODEL_aeed363a15894de3812d9d133a4d4158"
          }
        },
        "a52f501615044b1a9f94b89f96ed964f": {
          "model_module": "@jupyter-widgets/controls",
          "model_name": "HTMLModel",
          "model_module_version": "1.5.0",
          "state": {
            "_dom_classes": [],
            "_model_module": "@jupyter-widgets/controls",
            "_model_module_version": "1.5.0",
            "_model_name": "HTMLModel",
            "_view_count": null,
            "_view_module": "@jupyter-widgets/controls",
            "_view_module_version": "1.5.0",
            "_view_name": "HTMLView",
            "description": "",
            "description_tooltip": null,
            "layout": "IPY_MODEL_70e072d17cd748da8310c5b1a6da40aa",
            "placeholder": "​",
            "style": "IPY_MODEL_01f6fb6e4f7444b8a4d4b24b55480123",
            "value": "Loading checkpoint shards: 100%"
          }
        },
        "f475ea5f9e98493ea9cae89e39f8dd6f": {
          "model_module": "@jupyter-widgets/controls",
          "model_name": "FloatProgressModel",
          "model_module_version": "1.5.0",
          "state": {
            "_dom_classes": [],
            "_model_module": "@jupyter-widgets/controls",
            "_model_module_version": "1.5.0",
            "_model_name": "FloatProgressModel",
            "_view_count": null,
            "_view_module": "@jupyter-widgets/controls",
            "_view_module_version": "1.5.0",
            "_view_name": "ProgressView",
            "bar_style": "success",
            "description": "",
            "description_tooltip": null,
            "layout": "IPY_MODEL_ce043c2cfb504e75901d35744e33ef68",
            "max": 2,
            "min": 0,
            "orientation": "horizontal",
            "style": "IPY_MODEL_a98f8b53db5c4ddd8681466b88a8ed75",
            "value": 2
          }
        },
        "13315f84153b4a8eafc5eb475d46d3fe": {
          "model_module": "@jupyter-widgets/controls",
          "model_name": "HTMLModel",
          "model_module_version": "1.5.0",
          "state": {
            "_dom_classes": [],
            "_model_module": "@jupyter-widgets/controls",
            "_model_module_version": "1.5.0",
            "_model_name": "HTMLModel",
            "_view_count": null,
            "_view_module": "@jupyter-widgets/controls",
            "_view_module_version": "1.5.0",
            "_view_name": "HTMLView",
            "description": "",
            "description_tooltip": null,
            "layout": "IPY_MODEL_bed2b4a16bce4f76bf6011ae94f6164e",
            "placeholder": "​",
            "style": "IPY_MODEL_5ecaa477b4e747bb93a92cd54e8eeccf",
            "value": " 2/2 [03:11&lt;00:00, 90.84s/it]"
          }
        },
        "aeed363a15894de3812d9d133a4d4158": {
          "model_module": "@jupyter-widgets/base",
          "model_name": "LayoutModel",
          "model_module_version": "1.2.0",
          "state": {
            "_model_module": "@jupyter-widgets/base",
            "_model_module_version": "1.2.0",
            "_model_name": "LayoutModel",
            "_view_count": null,
            "_view_module": "@jupyter-widgets/base",
            "_view_module_version": "1.2.0",
            "_view_name": "LayoutView",
            "align_content": null,
            "align_items": null,
            "align_self": null,
            "border": null,
            "bottom": null,
            "display": null,
            "flex": null,
            "flex_flow": null,
            "grid_area": null,
            "grid_auto_columns": null,
            "grid_auto_flow": null,
            "grid_auto_rows": null,
            "grid_column": null,
            "grid_gap": null,
            "grid_row": null,
            "grid_template_areas": null,
            "grid_template_columns": null,
            "grid_template_rows": null,
            "height": null,
            "justify_content": null,
            "justify_items": null,
            "left": null,
            "margin": null,
            "max_height": null,
            "max_width": null,
            "min_height": null,
            "min_width": null,
            "object_fit": null,
            "object_position": null,
            "order": null,
            "overflow": null,
            "overflow_x": null,
            "overflow_y": null,
            "padding": null,
            "right": null,
            "top": null,
            "visibility": null,
            "width": null
          }
        },
        "70e072d17cd748da8310c5b1a6da40aa": {
          "model_module": "@jupyter-widgets/base",
          "model_name": "LayoutModel",
          "model_module_version": "1.2.0",
          "state": {
            "_model_module": "@jupyter-widgets/base",
            "_model_module_version": "1.2.0",
            "_model_name": "LayoutModel",
            "_view_count": null,
            "_view_module": "@jupyter-widgets/base",
            "_view_module_version": "1.2.0",
            "_view_name": "LayoutView",
            "align_content": null,
            "align_items": null,
            "align_self": null,
            "border": null,
            "bottom": null,
            "display": null,
            "flex": null,
            "flex_flow": null,
            "grid_area": null,
            "grid_auto_columns": null,
            "grid_auto_flow": null,
            "grid_auto_rows": null,
            "grid_column": null,
            "grid_gap": null,
            "grid_row": null,
            "grid_template_areas": null,
            "grid_template_columns": null,
            "grid_template_rows": null,
            "height": null,
            "justify_content": null,
            "justify_items": null,
            "left": null,
            "margin": null,
            "max_height": null,
            "max_width": null,
            "min_height": null,
            "min_width": null,
            "object_fit": null,
            "object_position": null,
            "order": null,
            "overflow": null,
            "overflow_x": null,
            "overflow_y": null,
            "padding": null,
            "right": null,
            "top": null,
            "visibility": null,
            "width": null
          }
        },
        "01f6fb6e4f7444b8a4d4b24b55480123": {
          "model_module": "@jupyter-widgets/controls",
          "model_name": "DescriptionStyleModel",
          "model_module_version": "1.5.0",
          "state": {
            "_model_module": "@jupyter-widgets/controls",
            "_model_module_version": "1.5.0",
            "_model_name": "DescriptionStyleModel",
            "_view_count": null,
            "_view_module": "@jupyter-widgets/base",
            "_view_module_version": "1.2.0",
            "_view_name": "StyleView",
            "description_width": ""
          }
        },
        "ce043c2cfb504e75901d35744e33ef68": {
          "model_module": "@jupyter-widgets/base",
          "model_name": "LayoutModel",
          "model_module_version": "1.2.0",
          "state": {
            "_model_module": "@jupyter-widgets/base",
            "_model_module_version": "1.2.0",
            "_model_name": "LayoutModel",
            "_view_count": null,
            "_view_module": "@jupyter-widgets/base",
            "_view_module_version": "1.2.0",
            "_view_name": "LayoutView",
            "align_content": null,
            "align_items": null,
            "align_self": null,
            "border": null,
            "bottom": null,
            "display": null,
            "flex": null,
            "flex_flow": null,
            "grid_area": null,
            "grid_auto_columns": null,
            "grid_auto_flow": null,
            "grid_auto_rows": null,
            "grid_column": null,
            "grid_gap": null,
            "grid_row": null,
            "grid_template_areas": null,
            "grid_template_columns": null,
            "grid_template_rows": null,
            "height": null,
            "justify_content": null,
            "justify_items": null,
            "left": null,
            "margin": null,
            "max_height": null,
            "max_width": null,
            "min_height": null,
            "min_width": null,
            "object_fit": null,
            "object_position": null,
            "order": null,
            "overflow": null,
            "overflow_x": null,
            "overflow_y": null,
            "padding": null,
            "right": null,
            "top": null,
            "visibility": null,
            "width": null
          }
        },
        "a98f8b53db5c4ddd8681466b88a8ed75": {
          "model_module": "@jupyter-widgets/controls",
          "model_name": "ProgressStyleModel",
          "model_module_version": "1.5.0",
          "state": {
            "_model_module": "@jupyter-widgets/controls",
            "_model_module_version": "1.5.0",
            "_model_name": "ProgressStyleModel",
            "_view_count": null,
            "_view_module": "@jupyter-widgets/base",
            "_view_module_version": "1.2.0",
            "_view_name": "StyleView",
            "bar_color": null,
            "description_width": ""
          }
        },
        "bed2b4a16bce4f76bf6011ae94f6164e": {
          "model_module": "@jupyter-widgets/base",
          "model_name": "LayoutModel",
          "model_module_version": "1.2.0",
          "state": {
            "_model_module": "@jupyter-widgets/base",
            "_model_module_version": "1.2.0",
            "_model_name": "LayoutModel",
            "_view_count": null,
            "_view_module": "@jupyter-widgets/base",
            "_view_module_version": "1.2.0",
            "_view_name": "LayoutView",
            "align_content": null,
            "align_items": null,
            "align_self": null,
            "border": null,
            "bottom": null,
            "display": null,
            "flex": null,
            "flex_flow": null,
            "grid_area": null,
            "grid_auto_columns": null,
            "grid_auto_flow": null,
            "grid_auto_rows": null,
            "grid_column": null,
            "grid_gap": null,
            "grid_row": null,
            "grid_template_areas": null,
            "grid_template_columns": null,
            "grid_template_rows": null,
            "height": null,
            "justify_content": null,
            "justify_items": null,
            "left": null,
            "margin": null,
            "max_height": null,
            "max_width": null,
            "min_height": null,
            "min_width": null,
            "object_fit": null,
            "object_position": null,
            "order": null,
            "overflow": null,
            "overflow_x": null,
            "overflow_y": null,
            "padding": null,
            "right": null,
            "top": null,
            "visibility": null,
            "width": null
          }
        },
        "5ecaa477b4e747bb93a92cd54e8eeccf": {
          "model_module": "@jupyter-widgets/controls",
          "model_name": "DescriptionStyleModel",
          "model_module_version": "1.5.0",
          "state": {
            "_model_module": "@jupyter-widgets/controls",
            "_model_module_version": "1.5.0",
            "_model_name": "DescriptionStyleModel",
            "_view_count": null,
            "_view_module": "@jupyter-widgets/base",
            "_view_module_version": "1.2.0",
            "_view_name": "StyleView",
            "description_width": ""
          }
        }
      }
    }
  },
  "cells": [
    {
      "cell_type": "markdown",
      "metadata": {
        "id": "view-in-github",
        "colab_type": "text"
      },
      "source": [
        "<a href=\"https://colab.research.google.com/github/ymoslem/Adaptive-MT-LLM-Fine-tuning/blob/main/Mistral-Fine-Tuning-Adaptive-MT.ipynb\" target=\"_parent\"><img src=\"https://colab.research.google.com/assets/colab-badge.svg\" alt=\"Open In Colab\"/></a>"
      ]
    },
    {
      "cell_type": "markdown",
      "source": [
        "# Fine-tuning Mistral 7B for adaptive MT"
      ],
      "metadata": {
        "id": "5oNcmiuq3YKE"
      }
    },
    {
      "cell_type": "markdown",
      "source": [
        "# Installations"
      ],
      "metadata": {
        "id": "CpHmGFLp3cuk"
      }
    },
    {
      "cell_type": "code",
      "execution_count": null,
      "metadata": {
        "colab": {
          "base_uri": "https://localhost:8080/"
        },
        "id": "xV2QtE9FsSLB",
        "outputId": "ecfde685-0f93-4695-9d54-07a481a53f90"
      },
      "outputs": [
        {
          "output_type": "stream",
          "name": "stdout",
          "text": [
            "GPU 0: NVIDIA A100-SXM4-40GB (UUID: GPU-c4241e29-1730-287f-4348-83d0f5e2e534)\n"
          ]
        }
      ],
      "source": [
        "# Check GPU\n",
        "!nvidia-smi -L"
      ]
    },
    {
      "cell_type": "code",
      "source": [
        "!pip3 install datasets transformers accelerate bitsandbytes peft trl -q"
      ],
      "metadata": {
        "id": "d_qLhV8jLZsH"
      },
      "execution_count": null,
      "outputs": []
    },
    {
      "cell_type": "markdown",
      "source": [
        "# Loading the data"
      ],
      "metadata": {
        "id": "hnh5nkfxQsyb"
      }
    },
    {
      "cell_type": "code",
      "source": [
        "import os\n",
        "\n",
        "data_path = \"/content/drive/MyDrive/data/\"\n",
        "directory = os.path.join(data_path, \"spanish\")\n",
        "\n",
        "os.chdir(directory)\n",
        "os.getcwd()"
      ],
      "metadata": {
        "colab": {
          "base_uri": "https://localhost:8080/",
          "height": 35
        },
        "id": "7jIwEIkCQe1b",
        "outputId": "44021def-3b22-421f-d068-07595c5c06e1"
      },
      "execution_count": null,
      "outputs": [
        {
          "output_type": "execute_result",
          "data": {
            "text/plain": [
              "'/content/drive/MyDrive/data/spanish'"
            ],
            "application/vnd.google.colaboratory.intrinsic+json": {
              "type": "string"
            }
          },
          "metadata": {},
          "execution_count": 6
        }
      ]
    },
    {
      "cell_type": "code",
      "source": [
        "# Load the training dataset\n",
        "\n",
        "source_train_file = \"all-filtered.es.real.smalltrain\"\n",
        "target_train_file = \"all-filtered.en.real.smalltrain\"\n",
        "\n",
        "with open(source_train_file, encoding=\"utf-8\") as source, open(target_train_file, encoding=\"utf-8\") as target:\n",
        "  source_sentences = [sent.strip() for sent in source.readlines()]\n",
        "  target_sentences = [sent.strip() for sent in target.readlines()]\n",
        "\n",
        "print(source_sentences[0])\n",
        "print(target_sentences[0])"
      ],
      "metadata": {
        "colab": {
          "base_uri": "https://localhost:8080/"
        },
        "id": "4EznpQIHQhGo",
        "outputId": "446d7840-9e70-4a46-e374-7fba08a3c088"
      },
      "execution_count": null,
      "outputs": [
        {
          "output_type": "stream",
          "name": "stdout",
          "text": [
            "El consumo nocivo de alcohol es responsable por cerca de 3% de todas las muertes que ocurren en el planeta, incluyendo desde cirrosis y cáncer hepático hasta accidentes, caídas, intoxicaciones y homicidios.\n",
            "The harmful use of alcohol is responsible for about 3% of all deaths that occur on the planet, ranging from liver cancer and cirrhosis to accidents, falls, poisoning and murder.\n"
          ]
        }
      ]
    },
    {
      "cell_type": "code",
      "source": [
        "# Load the fuzzy matches from unique Context Dataset\n",
        "\n",
        "context_train_file = \"all-filtered.esen.ms-multi-12.online.smalltrain\"\n",
        "\n",
        "with open(context_train_file, encoding=\"utf-8\") as context:\n",
        "  lines = [line.strip().split(\" ||| \") for line in context.readlines()]\n",
        "  scores = [float(line[0].strip()) for line in lines]\n",
        "  fuzzy_source_sentences = [line[1].strip() for line in lines]\n",
        "  online_source_sentences = [line[2].strip() for line in lines]\n",
        "  fuzzy_target_prefixes = [line[3].strip() for line in lines]\n",
        "\n",
        "n = 0\n",
        "print(fuzzy_source_sentences[n])\n",
        "print(online_source_sentences[n])\n",
        "print(fuzzy_target_prefixes[n])"
      ],
      "metadata": {
        "id": "Dzsxxv1tQj3b"
      },
      "execution_count": null,
      "outputs": []
    },
    {
      "cell_type": "markdown",
      "source": [
        "# Create the prompts"
      ],
      "metadata": {
        "id": "DYb9dxsAQtpt"
      }
    },
    {
      "cell_type": "code",
      "source": [
        "# Function to create zero-shot and one-shot prompts\n",
        "\n",
        "def create_prompt(source_lang,\n",
        "                  target_lang,\n",
        "                  fuzzy_sources,\n",
        "                  fuzzy_targets,\n",
        "                  new_sources,\n",
        "                  new_targets,\n",
        "                  one_shot=True\n",
        "                  ):\n",
        "\n",
        "  prompts = []\n",
        "\n",
        "  if one_shot:\n",
        "    for fuzzy_src, fuzzy_tgt, new_src, new_tgt in zip(fuzzy_sources, fuzzy_targets, new_sources, new_targets):\n",
        "      fuzzy_src = source_lang + \": \" + fuzzy_src\n",
        "      fuzzy_tgt = target_lang + \": \" + fuzzy_tgt\n",
        "      new_src = source_lang + \": \" + new_src\n",
        "      src_segment = fuzzy_src + \"\\n\" + fuzzy_tgt + \"\\n\" + new_src + \"\\n\" + target_lang + \":\"\n",
        "      prompt = src_segment + \" \" + new_tgt\n",
        "      prompt_dict = {\"prompt\": src_segment,\n",
        "                     \"response\": new_tgt,\n",
        "                     \"source\": \"Medical\"\n",
        "                    }\n",
        "      prompts.append(prompt)\n",
        "  else:\n",
        "    for new_src, new_tgt in zip(new_sources, new_targets):\n",
        "      new_src = source_lang + \": \" + new_src\n",
        "      src_segment = new_src + \"\\n\" + target_lang + \":\"\n",
        "      prompt = src_segment + \" \" + new_tgt\n",
        "      prompt_dict = {\"prompt\": src_segment,\n",
        "                     \"response\": new_tgt,\n",
        "                     \"source\": \"Medical\"\n",
        "                    }\n",
        "      prompts.append(prompt)\n",
        "\n",
        "  return prompts"
      ],
      "metadata": {
        "id": "lhtPPU5zDFp0"
      },
      "execution_count": null,
      "outputs": []
    },
    {
      "cell_type": "code",
      "source": [
        "source_lang = \"Spanish\"\n",
        "target_lang = \"English\""
      ],
      "metadata": {
        "id": "l_XXEc-cQvno"
      },
      "execution_count": null,
      "outputs": []
    },
    {
      "cell_type": "code",
      "source": [
        "prompts_zero_shot = create_prompt(source_lang,\n",
        "                                  target_lang,\n",
        "                                  fuzzy_source_sentences,\n",
        "                                  fuzzy_target_prefixes,\n",
        "                                  online_source_sentences,\n",
        "                                  target_sentences,\n",
        "                                  one_shot=False\n",
        "                                  )\n",
        "\n",
        "prompts_one_shot = create_prompt(source_lang,\n",
        "                        target_lang,\n",
        "                        fuzzy_source_sentences,\n",
        "                        fuzzy_target_prefixes,\n",
        "                        online_source_sentences,\n",
        "                        target_sentences,\n",
        "                        one_shot=True\n",
        "                        )\n",
        "\n",
        "\n",
        "prompts = prompts_zero_shot + prompts_one_shot\n",
        "\n",
        "print(len(prompts))"
      ],
      "metadata": {
        "id": "FVTTpMt8QxKX",
        "colab": {
          "base_uri": "https://localhost:8080/"
        },
        "outputId": "ebfb8c9d-864d-4b1c-a074-28c91286934b"
      },
      "execution_count": null,
      "outputs": [
        {
          "output_type": "stream",
          "name": "stdout",
          "text": [
            "20000\n"
          ]
        }
      ]
    },
    {
      "cell_type": "code",
      "source": [
        "print(prompts[0], \"\\n\")\n",
        "print(prompts[-1])"
      ],
      "metadata": {
        "colab": {
          "base_uri": "https://localhost:8080/"
        },
        "id": "HAlrExMiEDhk",
        "outputId": "ad98f424-3f77-4bbd-aa29-70156b296bdb"
      },
      "execution_count": null,
      "outputs": [
        {
          "output_type": "stream",
          "name": "stdout",
          "text": [
            "Spanish: El consumo nocivo de alcohol es responsable por cerca de 3% de todas las muertes que ocurren en el planeta, incluyendo desde cirrosis y cáncer hepático hasta accidentes, caídas, intoxicaciones y homicidios.\n",
            "English: The harmful use of alcohol is responsible for about 3% of all deaths that occur on the planet, ranging from liver cancer and cirrhosis to accidents, falls, poisoning and murder. \n",
            "\n",
            "Spanish: Aceite de ricino, hidrogenado\n",
            "English: Castor oil, hydrogenated\n",
            "Spanish: Amyvid contiene etanol y sodio\n",
            "English: Amyvid contains ethanol and sodium\n"
          ]
        }
      ]
    },
    {
      "cell_type": "code",
      "source": [
        "# Shuffle the prompts\n",
        "import random\n",
        "random.shuffle(prompts)\n",
        "\n",
        "print(prompts[0], \"\\n\")\n",
        "print(prompts[-1])"
      ],
      "metadata": {
        "colab": {
          "base_uri": "https://localhost:8080/"
        },
        "id": "8aqsK1HUA0L6",
        "outputId": "db573bd5-7a75-4928-8890-3868602db761"
      },
      "execution_count": null,
      "outputs": [
        {
          "output_type": "stream",
          "name": "stdout",
          "text": [
            "Spanish: NE: no estudiado.\n",
            "English: NS: not studied. \n",
            "\n",
            "Spanish: MSTW 30 mg Krugmann 30 mg\n",
            "English: MSTW 30 mg Krugmann\n"
          ]
        }
      ]
    },
    {
      "cell_type": "markdown",
      "source": [
        "# Fine-tuning with Huggingface"
      ],
      "metadata": {
        "id": "TCe7j5NSA_6U"
      }
    },
    {
      "cell_type": "markdown",
      "source": [
        "# Create the dataset"
      ],
      "metadata": {
        "id": "KfiwvSRUBGIU"
      }
    },
    {
      "cell_type": "code",
      "source": [
        "from datasets import Dataset, DatasetDict, load_dataset\n",
        "\n",
        "dataset = DatasetDict({\n",
        "    \"train\": Dataset.from_dict({\"text\": prompts[:19000]}),\n",
        "    \"validation\": Dataset.from_dict({\"text\": prompts[19000:]})\n",
        "})"
      ],
      "metadata": {
        "id": "6C37jqgcBHi9"
      },
      "execution_count": null,
      "outputs": []
    },
    {
      "cell_type": "code",
      "source": [
        "dataset"
      ],
      "metadata": {
        "colab": {
          "base_uri": "https://localhost:8080/"
        },
        "id": "gxsqkyPUwOFp",
        "outputId": "5780231a-cc79-4362-b356-6440a68e6c64"
      },
      "execution_count": null,
      "outputs": [
        {
          "output_type": "execute_result",
          "data": {
            "text/plain": [
              "DatasetDict({\n",
              "    train: Dataset({\n",
              "        features: ['text'],\n",
              "        num_rows: 19000\n",
              "    })\n",
              "    validation: Dataset({\n",
              "        features: ['text'],\n",
              "        num_rows: 1000\n",
              "    })\n",
              "})"
            ]
          },
          "metadata": {},
          "execution_count": 17
        }
      ]
    },
    {
      "cell_type": "code",
      "source": [
        "from pprint import pprint\n",
        "\n",
        "pprint(dataset['train'][4])"
      ],
      "metadata": {
        "colab": {
          "base_uri": "https://localhost:8080/"
        },
        "id": "WTZTZg2jBqPD",
        "outputId": "716a669f-fbb0-4bac-c83e-6ecf00794ad2"
      },
      "execution_count": null,
      "outputs": [
        {
          "output_type": "stream",
          "name": "stdout",
          "text": [
            "{'text': 'Spanish: El presente estudio, por tanto, tiene como objetivo adaptar '\n",
            "         'y validar para el uso en el ámbito de la APS, por medio de consenso '\n",
            "         'de especialistas, un conjunto de indicadores para evaluación del '\n",
            "         'procesamiento de artículos médicos odontológicos hospitalarios.\\n'\n",
            "         \"English: Therefore, this study's objective was to adapt and validate \"\n",
            "         'a set of indicators to assess the sterilization processing of dental '\n",
            "         'and medical articles through expert consensus, to be used within PHC '\n",
            "         'services.'}\n"
          ]
        }
      ]
    },
    {
      "cell_type": "markdown",
      "source": [
        "## Load the model"
      ],
      "metadata": {
        "id": "Do-6VvQ0PHlS"
      }
    },
    {
      "cell_type": "code",
      "source": [
        "import os\n",
        "from google.colab import userdata\n",
        "\n",
        "shared_drive = userdata.get(\"shared_drive\")\n",
        "\n",
        "model_directory = os.path.join(shared_drive, \"models\")\n",
        "\n",
        "os.chdir(directory)\n",
        "os.getcwd()"
      ],
      "metadata": {
        "id": "bOkhsY6h4tJq"
      },
      "execution_count": null,
      "outputs": []
    },
    {
      "cell_type": "code",
      "source": [
        "from transformers import AutoTokenizer, AutoModelForCausalLM, AutoConfig, BitsAndBytesConfig\n",
        "import torch\n",
        "\n",
        "cache_dir = model_directory\n",
        "\n",
        "model_name = \"mistralai/Mistral-7B-v0.1\"\n",
        "\n",
        "nf4_config = BitsAndBytesConfig(\n",
        "                                load_in_4bit=True,\n",
        "                                bnb_4bit_quant_type=\"nf4\",\n",
        "                                bnb_4bit_use_double_quant=True,\n",
        "                                bnb_4bit_compute_dtype=torch.bfloat16\n",
        "                                )\n",
        "\n",
        "model = AutoModelForCausalLM.from_pretrained(\n",
        "                                            model_name,\n",
        "                                            device_map='auto',\n",
        "                                            quantization_config=nf4_config,\n",
        "                                            use_cache=False,\n",
        "                                            cache_dir=cache_dir\n",
        "                                            )\n",
        "\n",
        "tokenizer = AutoTokenizer.from_pretrained(model_name,\n",
        "                                          cache_dir=cache_dir)"
      ],
      "metadata": {
        "colab": {
          "base_uri": "https://localhost:8080/",
          "height": 49,
          "referenced_widgets": [
            "c36b2efd2bb549bc9e3727a8687d35a2",
            "a52f501615044b1a9f94b89f96ed964f",
            "f475ea5f9e98493ea9cae89e39f8dd6f",
            "13315f84153b4a8eafc5eb475d46d3fe",
            "aeed363a15894de3812d9d133a4d4158",
            "70e072d17cd748da8310c5b1a6da40aa",
            "01f6fb6e4f7444b8a4d4b24b55480123",
            "ce043c2cfb504e75901d35744e33ef68",
            "a98f8b53db5c4ddd8681466b88a8ed75",
            "bed2b4a16bce4f76bf6011ae94f6164e",
            "5ecaa477b4e747bb93a92cd54e8eeccf"
          ]
        },
        "id": "deLyXDSTPJl5",
        "outputId": "5042e28d-6cbc-419b-e90d-7736c004f2e8"
      },
      "execution_count": null,
      "outputs": [
        {
          "output_type": "display_data",
          "data": {
            "text/plain": [
              "Loading checkpoint shards:   0%|          | 0/2 [00:00<?, ?it/s]"
            ],
            "application/vnd.jupyter.widget-view+json": {
              "version_major": 2,
              "version_minor": 0,
              "model_id": "c36b2efd2bb549bc9e3727a8687d35a2"
            }
          },
          "metadata": {}
        }
      ]
    },
    {
      "cell_type": "code",
      "source": [
        "tokenizer.pad_token = tokenizer.eos_token\n",
        "tokenizer.padding_side = \"right\""
      ],
      "metadata": {
        "id": "YmFjPd2eDww2"
      },
      "execution_count": null,
      "outputs": []
    },
    {
      "cell_type": "code",
      "source": [
        "tokenizer.add_eos_token = True\n",
        "tokenizer.add_bos_token, tokenizer.add_eos_token"
      ],
      "metadata": {
        "id": "z-Z_FwzBe8br"
      },
      "execution_count": null,
      "outputs": []
    },
    {
      "cell_type": "code",
      "source": [
        "from peft import AutoPeftModelForCausalLM, LoraConfig, get_peft_model, prepare_model_for_kbit_training\n",
        "\n",
        "peft_config = LoraConfig(\n",
        "                        lora_alpha=16,\n",
        "                        lora_dropout=0.1,\n",
        "                        r=64,\n",
        "                        bias=\"none\",\n",
        "                        task_type=\"CAUSAL_LM\"\n",
        "                        )"
      ],
      "metadata": {
        "id": "ycvLUry6nklY"
      },
      "execution_count": null,
      "outputs": []
    },
    {
      "cell_type": "code",
      "source": [
        "model = prepare_model_for_kbit_training(model)\n",
        "model = get_peft_model(model, peft_config)"
      ],
      "metadata": {
        "id": "pJo4T2dK4T2Z"
      },
      "execution_count": null,
      "outputs": []
    },
    {
      "cell_type": "markdown",
      "source": [
        "## Train the model"
      ],
      "metadata": {
        "id": "-0i3rn4KKwBg"
      }
    },
    {
      "cell_type": "code",
      "source": [
        "# model.gradient_checkpointing_enable()"
      ],
      "metadata": {
        "id": "qLdUmPYkTfb3"
      },
      "execution_count": null,
      "outputs": []
    },
    {
      "cell_type": "code",
      "source": [
        "output_dir = \"mistral_finetuning_v1__\"\n",
        "!rm -r $output_dir"
      ],
      "metadata": {
        "id": "0WX2WFyT7kQ8"
      },
      "execution_count": null,
      "outputs": []
    },
    {
      "cell_type": "code",
      "source": [
        "from transformers import TrainingArguments\n",
        "\n",
        "training_args = TrainingArguments(\n",
        "                                  output_dir = output_dir,\n",
        "                                  num_train_epochs=1,\n",
        "                                  #max_steps = 594, # comment out this line if you want to train in epochs\n",
        "                                  per_device_train_batch_size = 32,\n",
        "                                  per_device_eval_batch_size = 32,\n",
        "                                  warmup_steps = 0.03,\n",
        "                                  logging_steps=20,\n",
        "                                  save_strategy=\"epoch\",\n",
        "                                  evaluation_strategy=\"epoch\",\n",
        "                                  #evaluation_strategy=\"steps\",\n",
        "                                  #eval_steps=20, # comment out this line if you want to evaluate at the end of each epoch\n",
        "                                  #eval_accumulation_steps=4,\n",
        "                                  learning_rate=2e-3,  # 2e-4 # lower LE for smaller batch sizes\n",
        "                                  bf16=True,\n",
        "                                  lr_scheduler_type='constant',\n",
        "                                )"
      ],
      "metadata": {
        "id": "pqs0cMRwp1XP"
      },
      "execution_count": null,
      "outputs": []
    },
    {
      "cell_type": "code",
      "source": [
        "from trl import SFTTrainer\n",
        "\n",
        "max_seq_length = 512  # increase if needed\n",
        "\n",
        "trainer = SFTTrainer(\n",
        "                    model=model,\n",
        "                    peft_config=peft_config,\n",
        "                    max_seq_length=max_seq_length,\n",
        "                    tokenizer=tokenizer,\n",
        "                    packing=True,\n",
        "                    dataset_text_field=\"text\",\n",
        "                    args=training_args,\n",
        "                    train_dataset=dataset[\"train\"],\n",
        "                    eval_dataset=dataset[\"validation\"],\n",
        "                  )"
      ],
      "metadata": {
        "id": "_9KzXdV-qf9J"
      },
      "execution_count": null,
      "outputs": []
    },
    {
      "cell_type": "code",
      "source": [
        "trainer.train()"
      ],
      "metadata": {
        "id": "SChbiLGuLVKy"
      },
      "execution_count": null,
      "outputs": []
    },
    {
      "cell_type": "markdown",
      "source": [
        "# Test generation with Hugging Face"
      ],
      "metadata": {
        "id": "V-tP2mG_Hne3"
      }
    },
    {
      "cell_type": "code",
      "source": [
        "def generate_response(prompt, model):\n",
        "  encoded_input = tokenizer(prompt,  return_tensors=\"pt\", add_special_tokens=True)\n",
        "  model_inputs = encoded_input.to('cuda')\n",
        "\n",
        "  generated_ids = model.generate(**model_inputs, max_new_tokens=20,\n",
        "                                 do_sample=True,\n",
        "                                 pad_token_id=tokenizer.eos_token_id)\n",
        "\n",
        "  decoded_output = tokenizer.batch_decode(generated_ids)\n",
        "\n",
        "  return decoded_output[0].replace(prompt, \"\")"
      ],
      "metadata": {
        "id": "-Q0zsDN7JF44"
      },
      "execution_count": null,
      "outputs": []
    },
    {
      "cell_type": "code",
      "source": [
        "prompt = \"\"\"Spanish: Período de validez después de abierto el envase: 10 horas.\n",
        "English:\"\"\""
      ],
      "metadata": {
        "id": "HOYtNZVYKRpp"
      },
      "execution_count": null,
      "outputs": []
    },
    {
      "cell_type": "code",
      "source": [
        "print(prompts[4])"
      ],
      "metadata": {
        "colab": {
          "base_uri": "https://localhost:8080/"
        },
        "id": "wX3jjeYjLCy-",
        "outputId": "3ffad4b2-9d25-421e-bc28-2eafe94ea61f"
      },
      "execution_count": null,
      "outputs": [
        {
          "output_type": "stream",
          "name": "stdout",
          "text": [
            "Spanish: El piriprol puede resultar peligroso para los organismos acuáticos.\n",
            "English: Pyriprole may be harmful to aquatic organisms.\n"
          ]
        }
      ]
    },
    {
      "cell_type": "code",
      "source": [
        "generate_response(prompt, model)"
      ],
      "metadata": {
        "colab": {
          "base_uri": "https://localhost:8080/",
          "height": 35
        },
        "id": "AnsT6pJNJ8FL",
        "outputId": "55ce500a-2943-4f93-ab5d-827e0822c08c"
      },
      "execution_count": null,
      "outputs": [
        {
          "output_type": "execute_result",
          "data": {
            "text/plain": [
              "'<s>  Period after opening the container: 10 hours.\\n\\nSpanish: Período de'"
            ],
            "application/vnd.google.colaboratory.intrinsic+json": {
              "type": "string"
            }
          },
          "metadata": {},
          "execution_count": 54
        }
      ]
    },
    {
      "cell_type": "markdown",
      "source": [
        "# Convert the fine-tuned model to CTranslate2\n",
        "\n",
        "* https://github.com/ymoslem/Adaptive-MT-LLM-Fine-tuning/blob/main/Convert-Mistral-Finetuned-CTranslate2.ipynb"
      ],
      "metadata": {
        "id": "CSUjBV-VmdXs"
      }
    }
  ]
}